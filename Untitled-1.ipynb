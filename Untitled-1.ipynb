{
 "cells": [
  {
   "cell_type": "code",
   "execution_count": 1,
   "metadata": {},
   "outputs": [
    {
     "name": "stdout",
     "output_type": "stream",
     "text": [
      "[t-SNE] Computing 10 nearest neighbors...\n",
      "[t-SNE] Indexed 1641 samples in 0.015s...\n"
     ]
    }
   ],
   "source": [
    "import anndata\n",
    "from sklearn.manifold import TSNE\n",
    "anndata_file = anndata.read_h5ad('anndata/local.h5ad')\n",
    "type(anndata_file.X)\n",
    "X = anndata_file.X\n",
    "X_embedded = TSNE(n_components=3, learning_rate='auto',  init='random', perplexity=3, verbose=3, n_iter=250).fit_transform(X)"
   ]
  },
  {
   "cell_type": "code",
   "execution_count": null,
   "metadata": {},
   "outputs": [],
   "source": []
  }
 ],
 "metadata": {
  "kernelspec": {
   "display_name": "venv",
   "language": "python",
   "name": "python3"
  },
  "language_info": {
   "codemirror_mode": {
    "name": "ipython",
    "version": 3
   },
   "file_extension": ".py",
   "mimetype": "text/x-python",
   "name": "python",
   "nbconvert_exporter": "python",
   "pygments_lexer": "ipython3",
   "version": "3.10.6"
  },
  "orig_nbformat": 4,
  "vscode": {
   "interpreter": {
    "hash": "c0e6c3db65822caac75ba5c9ba8ab33be8c605cd6333a4fd5ffb3e5d54e9defa"
   }
  }
 },
 "nbformat": 4,
 "nbformat_minor": 2
}
